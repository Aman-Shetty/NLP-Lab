{
 "cells": [
  {
   "cell_type": "code",
   "execution_count": 2,
   "id": "6a82022b-f173-403e-bd61-47e8947e1046",
   "metadata": {
    "tags": []
   },
   "outputs": [
    {
     "name": "stderr",
     "output_type": "stream",
     "text": [
      "[nltk_data] Downloading package treebank to\n",
      "[nltk_data]     C:\\Users\\Sahyadri\\AppData\\Roaming\\nltk_data...\n",
      "[nltk_data]   Package treebank is already up-to-date!\n",
      "[nltk_data] Downloading package punkt to\n",
      "[nltk_data]     C:\\Users\\Sahyadri\\AppData\\Roaming\\nltk_data...\n",
      "[nltk_data]   Package punkt is already up-to-date!\n"
     ]
    },
    {
     "data": {
      "text/plain": [
       "True"
      ]
     },
     "execution_count": 2,
     "metadata": {},
     "output_type": "execute_result"
    }
   ],
   "source": [
    "# Download necessary NLTK data\n",
    "nltk.download('treebank')\n",
    "nltk.download('punkt')"
   ]
  },
  {
   "cell_type": "code",
   "execution_count": 7,
   "id": "1deee0a9-fcf1-4c16-9c18-3956d7da2ecf",
   "metadata": {
    "tags": []
   },
   "outputs": [
    {
     "name": "stdout",
     "output_type": "stream",
     "text": [
      "Sentence: He is reading a book\n",
      "Rule-Based Tags: [('He', 'NN'), ('is', 'NNS'), ('reading', 'VBG'), ('a', 'NN'), ('book', 'NN')]\n",
      "Stochastic Tags: [('He', 'PRP'), ('is', 'VBZ'), ('reading', 'VBG'), ('a', 'DT'), ('book', 'NN')]\n",
      "\n",
      "Sentence: She watched the movie yesterday\n",
      "Rule-Based Tags: [('She', 'NN'), ('watched', 'VBD'), ('the', 'NN'), ('movie', 'NN'), ('yesterday', 'NN')]\n",
      "Stochastic Tags: [('She', 'PRP'), ('watched', 'VBD'), ('the', 'DT'), ('movie', 'NN'), ('yesterday', 'NN')]\n",
      "\n",
      "Sentence: Dogs are barking loudly\n",
      "Rule-Based Tags: [('Dogs', 'NNS'), ('are', 'NN'), ('barking', 'VBG'), ('loudly', 'NN')]\n",
      "Stochastic Tags: [('Dogs', 'NNS'), ('are', 'VBP'), ('barking', 'VBG'), ('loudly', 'NN')]\n",
      "\n"
     ]
    }
   ],
   "source": [
    "import nltk\n",
    "from nltk.corpus import treebank\n",
    "from nltk.tag import UnigramTagger, BigramTagger, RegexpTagger\n",
    "from nltk.tokenize import word_tokenize\n",
    "\n",
    "# Sample corpus - using treebank corpus\n",
    "corpus = treebank.tagged_sents()[:300]\n",
    "\n",
    "# Training data\n",
    "train_data = corpus[:250]\n",
    "test_data = corpus[250:]\n",
    "\n",
    "# Define patterns for rule-based tagger\n",
    "patterns = [\n",
    "    (r'.*ing$', 'VBG'),    # gerunds\n",
    "    (r'.*ed$', 'VBD'),     # past tense verbs\n",
    "    (r'.*es$', 'VBZ'),     # 3rd person singular present verbs\n",
    "    (r'.*ould$', 'MD'),    # modals\n",
    "    (r'.*\\'s$', 'POS'),    # possessive nouns\n",
    "    (r'.*s$', 'NNS'),      # plural nouns\n",
    "    (r'^-?[0-9]+(.[0-9]+)?$', 'CD'),  # cardinal numbers\n",
    "    (r'.*', 'NN')          # nouns (default)\n",
    "]\n",
    "\n",
    "# Create a rule-based tagger\n",
    "rule_based_tagger = RegexpTagger(patterns)\n",
    "\n",
    "# Create a stochastic tagger using Unigram and Bigram taggers\n",
    "unigram_tagger = UnigramTagger(train_data, backoff=rule_based_tagger)\n",
    "bigram_tagger = BigramTagger(train_data, backoff=unigram_tagger)\n",
    "\n",
    "# Function to tag a sentence using the taggers\n",
    "def tag_sentence(sentence, tagger):\n",
    "    tokens = word_tokenize(sentence)\n",
    "    return tagger.tag(tokens)\n",
    "\n",
    "# test sentences\n",
    "sentences = [\n",
    "    \"He is reading a book\",\n",
    "    \"She watched the movie yesterday\",\n",
    "    \"Dogs are barking loudly\"\n",
    "]\n",
    "\n",
    "# Tagging the test sentences\n",
    "for sentence in sentences:\n",
    "    rule_based_tags = tag_sentence(sentence, rule_based_tagger)\n",
    "    stochastic_tags = tag_sentence(sentence, bigram_tagger)\n",
    "    print(f\"Sentence: {sentence}\")\n",
    "    print(f\"Rule-Based Tags: {rule_based_tags}\")\n",
    "    print(f\"Stochastic Tags: {stochastic_tags}\")\n",
    "    print()\n"
   ]
  }
 ],
 "metadata": {
  "kernelspec": {
   "display_name": "Python 3 (ipykernel)",
   "language": "python",
   "name": "python3"
  },
  "language_info": {
   "codemirror_mode": {
    "name": "ipython",
    "version": 3
   },
   "file_extension": ".py",
   "mimetype": "text/x-python",
   "name": "python",
   "nbconvert_exporter": "python",
   "pygments_lexer": "ipython3",
   "version": "3.11.3"
  }
 },
 "nbformat": 4,
 "nbformat_minor": 5
}
